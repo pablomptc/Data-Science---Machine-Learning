{
 "cells": [
  {
   "cell_type": "markdown",
   "metadata": {},
   "source": [
    "# SIMPLE LINEAL REGRESSION"
   ]
  },
  {
   "cell_type": "markdown",
   "metadata": {},
   "source": [
    " **SIMPLE REGRESSION WITH RANDOMLY GENERATED DATA**"
   ]
  },
  {
   "cell_type": "markdown",
   "metadata": {},
   "source": [
    " "
   ]
  },
  {
   "cell_type": "markdown",
   "metadata": {},
   "source": [
    "The code creates some random data that will be fitted with a linear regression line"
   ]
  },
  {
   "cell_type": "markdown",
   "metadata": {},
   "source": [
    " "
   ]
  },
  {
   "cell_type": "markdown",
   "metadata": {},
   "source": [
    " "
   ]
  },
  {
   "cell_type": "markdown",
   "metadata": {},
   "source": [
    "**Library import**"
   ]
  },
  {
   "cell_type": "code",
   "execution_count": 20,
   "metadata": {},
   "outputs": [],
   "source": [
    "import numpy as np\n",
    "import random\n",
    "from sklearn import linear_model\n",
    "from sklearn.metrics import mean_squared_error, r2_score\n",
    "import matplotlib.pyplot as plt"
   ]
  },
  {
   "cell_type": "markdown",
   "metadata": {},
   "source": [
    " "
   ]
  },
  {
   "cell_type": "markdown",
   "metadata": {},
   "source": [
    " "
   ]
  },
  {
   "cell_type": "markdown",
   "metadata": {},
   "source": [
    "## 1. DATA GENERATION"
   ]
  },
  {
   "cell_type": "markdown",
   "metadata": {},
   "source": [
    "**Constants definition**"
   ]
  },
  {
   "cell_type": "code",
   "execution_count": 21,
   "metadata": {},
   "outputs": [],
   "source": [
    "# Input constants\n",
    "\n",
    "DEVIATION = 200\n",
    "\n",
    "BETA = 10\n",
    "\n",
    "N = 50"
   ]
  },
  {
   "cell_type": "markdown",
   "metadata": {},
   "source": [
    "**Functions**"
   ]
  },
  {
   "cell_type": "code",
   "execution_count": 22,
   "metadata": {},
   "outputs": [],
   "source": [
    "# Generation of data distribution for simple regression:\n",
    "\n",
    "def generator_simple_data (beta, samples, deviation):\n",
    "    \n",
    "    # Generation of n (samples) x values between 0 and 100:\n",
    "    \n",
    "    x = np.random.random(samples) * 100\n",
    "\n",
    "    # Generation of an Gaussian random mistake with standard deviation\n",
    "    \n",
    "    e = np.random.randn(samples) * deviation\n",
    "    \n",
    "    # Getting real y as x*beta + error\n",
    "    \n",
    "    y = x * beta + e\n",
    "    \n",
    "    return x.reshape((samples, 1)), y.reshape((samples))"
   ]
  },
  {
   "cell_type": "markdown",
   "metadata": {},
   "source": [
    "**Generation of data with the pre-established constants**"
   ]
  },
  {
   "cell_type": "code",
   "execution_count": 23,
   "metadata": {},
   "outputs": [],
   "source": [
    "x, y = generator_simple_data (BETA, N, DEVIATION)"
   ]
  },
  {
   "cell_type": "markdown",
   "metadata": {},
   "source": [
    "**Representation of generated data**"
   ]
  },
  {
   "cell_type": "code",
   "execution_count": 24,
   "metadata": {},
   "outputs": [
    {
     "data": {
      "image/png": "[encoded data removed]",
      "text/plain": [
       "<Figure size 432x288 with 1 Axes>"
      ]
     },
     "metadata": {
      "needs_background": "light"
     },
     "output_type": "display_data"
    }
   ],
   "source": [
    "plt.scatter(x, y)\n",
    "    \n",
    "plt.show()"
   ]
  },
  {
   "cell_type": "markdown",
   "metadata": {},
   "source": [
    " "
   ]
  },
  {
   "cell_type": "markdown",
   "metadata": {},
   "source": [
    " "
   ]
  },
  {
   "cell_type": "markdown",
   "metadata": {},
   "source": [
    "## 2. LINEAL REGRESSION ADJUSTED TO THE DATA"
   ]
  },
  {
   "cell_type": "code",
   "execution_count": 36,
   "metadata": {},
   "outputs": [
    {
     "name": "stdout",
     "output_type": "stream",
     "text": [
      "Slope:  8.297509709533845\n",
      "Intercept: 95.42\n",
      "Mean squared error: 47374.97\n",
      "Estadistic R_2: 0.48\n"
     ]
    }
   ],
   "source": [
    "# Creation of a linear regression model\n",
    "\n",
    "model = linear_model.LinearRegression()\n",
    "\n",
    "# Train the model with the data (x, y)\n",
    "\n",
    "model.fit(x, y)\n",
    "\n",
    "# Get the coefficient b_1 (slope)\n",
    "\n",
    "print (\"Slope: \", model.coef_[0])\n",
    "\n",
    "# Get the intercept (n)\n",
    "\n",
    "print (\"Intercept: %.2f\" % model.intercept_)\n",
    "\n",
    "# It can be predicted by using the model\n",
    "\n",
    "y_pred = model.predict(x)\n",
    "\n",
    "# Finally, the mean square error and the r ^ 2 statistic are calculated\n",
    "\n",
    "print (\"Mean squared error: %.2f\" %mean_squared_error(y , y_pred))\n",
    "\n",
    "print (\"Estadistic R_2: %.2f\" % r2_score(y, y_pred))"
   ]
  }
 ],
 "metadata": {
  "kernelspec": {
   "display_name": "Python 3",
   "language": "python",
   "name": "python3"
  },
  "language_info": {
   "codemirror_mode": {
    "name": "ipython",
    "version": 3
   },
   "file_extension": ".py",
   "mimetype": "text/x-python",
   "name": "python",
   "nbconvert_exporter": "python",
   "pygments_lexer": "ipython3",
   "version": "3.6.11"
  }
 },
 "nbformat": 4,
 "nbformat_minor": 4
}
