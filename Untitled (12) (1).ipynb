{
 "cells": [
  {
   "cell_type": "markdown",
   "metadata": {},
   "source": [
    "# COMPARACIÓN DE ALGORITMO XGBOOST Y REGRESIÓN LINEAL"
   ]
  },
  {
   "cell_type": "code",
   "execution_count": 2,
   "metadata": {},
   "outputs": [
    {
     "name": "stdout",
     "output_type": "stream",
     "text": [
      "Collecting xgboost\n",
      "  Downloading xgboost-1.3.3-py3-none-manylinux2010_x86_64.whl (157.5 MB)\n",
      "\u001b[K     |████████████████████████████████| 157.5 MB 33 kB/s s eta 0:00:01    |█████████████▌                  | 66.2 MB 71.3 MB/s eta 0:00:02ta 0:00:01\n",
      "\u001b[?25hRequirement already satisfied: scipy in /srv/conda/envs/notebook/lib/python3.6/site-packages (from xgboost) (1.5.3)\n",
      "Requirement already satisfied: numpy in /srv/conda/envs/notebook/lib/python3.6/site-packages (from xgboost) (1.19.5)\n",
      "Installing collected packages: xgboost\n",
      "Successfully installed xgboost-1.3.3\n",
      "Note: you may need to restart the kernel to use updated packages.\n"
     ]
    }
   ],
   "source": [
    "pip install xgboost"
   ]
  },
  {
   "cell_type": "markdown",
   "metadata": {},
   "source": [
    "**Librerías**"
   ]
  },
  {
   "cell_type": "code",
   "execution_count": 24,
   "metadata": {},
   "outputs": [],
   "source": [
    "from numpy import mean, std\n",
    "import numpy as np\n",
    "import xgboost as xgb\n",
    "from sklearn.model_selection import GridSearchCV, train_test_split\n",
    "from sklearn.metrics import r2_score\n",
    "import matplotlib.pyplot as plt\n",
    "\n",
    "from sklearn import linear_model\n",
    "from sklearn.metrics import mean_squared_error, r2_score\n",
    "import random\n"
   ]
  },
  {
   "cell_type": "markdown",
   "metadata": {},
   "source": [
    "**Definición de un dataset con solo 1 feature (1 variable X)**"
   ]
  },
  {
   "cell_type": "code",
   "execution_count": 25,
   "metadata": {},
   "outputs": [
    {
     "data": {
      "image/png": "[encoded data removed]",
      "text/plain": [
       "<Figure size 432x288 with 1 Axes>"
      ]
     },
     "metadata": {
      "needs_background": "light"
     },
     "output_type": "display_data"
    }
   ],
   "source": [
    "X = np.linspace (-5, 5, 100).reshape(100, 1)\n",
    "y_limpia = np.sin(3* X) - X\n",
    "y_ruido = np.random.normal(size = len(X)).reshape(y_limpia.shape)\n",
    "y = y_limpia + y_ruido\n",
    "plt.scatter (X, y, color = \"blue\")\n",
    "plt.xlabel(\"Variable X\")\n",
    "plt.ylabel(\"Variable Y\")\n",
    "plt.show()\n"
   ]
  },
  {
   "cell_type": "markdown",
   "metadata": {},
   "source": [
    "**División en dos datasets**"
   ]
  },
  {
   "cell_type": "code",
   "execution_count": 26,
   "metadata": {},
   "outputs": [],
   "source": [
    "X_train, X_test, y_train, y_test = train_test_split (X, y, random_state = 5)"
   ]
  },
  {
   "cell_type": "markdown",
   "metadata": {},
   "source": [
    "**Obtención del mejor parámetro de profundidad del árbol entre 3 y 7 usando la validación cruzada y GridSearch**"
   ]
  },
  {
   "cell_type": "code",
   "execution_count": 27,
   "metadata": {},
   "outputs": [
    {
     "name": "stdout",
     "output_type": "stream",
     "text": [
      "Los mejores hiperparámetros son: {'eta': 0.3, 'lambda': 1.0, 'max_depth': 3}\n"
     ]
    }
   ],
   "source": [
    "regr = xgb.XGBRegressor ()\n",
    "\n",
    "params = {\"eta\": [0.3, 0.5], \"lambda\":[0.5, 1.0], \"max_depth\": [3,7]}\n",
    "\n",
    "regr_opt = GridSearchCV(regr, params, cv = 3)\n",
    "\n",
    "regr_opt.fit (X_train, y_train)\n",
    "\n",
    "print (\"Los mejores hiperparámetros son: {}\".format(regr_opt.best_params_))"
   ]
  },
  {
   "cell_type": "markdown",
   "metadata": {},
   "source": [
    "**Obtención de los coeficientes de determinación para medir el rendimiento**"
   ]
  },
  {
   "cell_type": "code",
   "execution_count": 28,
   "metadata": {},
   "outputs": [
    {
     "name": "stdout",
     "output_type": "stream",
     "text": [
      "La R^2 en los datos de train es: 1.0\n",
      "La R^2 en los datos de test es: 0.8\n"
     ]
    }
   ],
   "source": [
    "y_train_pred = regr_opt.predict(X_train)\n",
    "\n",
    "y_test_pred = regr_opt.predict(X_test)\n",
    "\n",
    "print (\"La R^2 en los datos de train es: {}\".format(np.round(r2_score(y_train,\n",
    "y_train_pred), 2)))\n",
    "\n",
    "print (\"La R^2 en los datos de test es: {}\".format(np.round(r2_score(y_test,\n",
    "y_test_pred), 2)))"
   ]
  },
  {
   "cell_type": "markdown",
   "metadata": {},
   "source": [
    "**Representación gráfica**"
   ]
  },
  {
   "cell_type": "code",
   "execution_count": 14,
   "metadata": {},
   "outputs": [
    {
     "data": {
      "image/png": "[encoded data removed]",
      "text/plain": [
       "<Figure size 432x288 with 1 Axes>"
      ]
     },
     "metadata": {
      "needs_background": "light"
     },
     "output_type": "display_data"
    }
   ],
   "source": [
    "X_fit = np.linspace(-5, 5, 1000).reshape(1000,1)\n",
    "\n",
    "y_fit = regr_opt.predict(X_fit)\n",
    "\n",
    "plt.scatter(X_test, y_test, label = \"Datos reales de test\", alpha = 0.4, s = 10)\n",
    "\n",
    "plt.plot(X_fit, y_fit, c = \"red\", label = \"Predicciones\")\n",
    "\n",
    "plt.legend ()\n",
    "\n",
    "plt.xlabel(\"Atributo X\")\n",
    "\n",
    "plt.ylabel(\"Target Y\")\n",
    "\n",
    "plt.show ()"
   ]
  },
  {
   "cell_type": "markdown",
   "metadata": {},
   "source": [
    "**Regresión lineal**"
   ]
  },
  {
   "cell_type": "code",
   "execution_count": 31,
   "metadata": {},
   "outputs": [],
   "source": [
    "modelo = linear_model.LinearRegression()\n",
    "\n",
    "modelo.fit(X_train, y_train)\n",
    "\n",
    "y_train_pred_r = modelo.predict(X_train)\n",
    "\n",
    "y_test_pred_r = modelo.predict(X_test)"
   ]
  },
  {
   "cell_type": "markdown",
   "metadata": {},
   "source": [
    "**Obtención de los coeficientes de determinación para medir el rendimiento**"
   ]
  },
  {
   "cell_type": "code",
   "execution_count": 32,
   "metadata": {},
   "outputs": [
    {
     "name": "stdout",
     "output_type": "stream",
     "text": [
      "Estadístico R_2: 0.87\n",
      "Estadístico R_2: 0.78\n"
     ]
    }
   ],
   "source": [
    "print (u'Estadístico R_2: %.2f' % r2_score(y_train, y_train_pred_r))\n",
    "\n",
    "print (u'Estadístico R_2: %.2f' % r2_score(y_test, y_test_pred_r))"
   ]
  }
 ],
 "metadata": {
  "kernelspec": {
   "display_name": "Python 3",
   "language": "python",
   "name": "python3"
  },
  "language_info": {
   "codemirror_mode": {
    "name": "ipython",
    "version": 3
   },
   "file_extension": ".py",
   "mimetype": "text/x-python",
   "name": "python",
   "nbconvert_exporter": "python",
   "pygments_lexer": "ipython3",
   "version": "3.6.11"
  }
 },
 "nbformat": 4,
 "nbformat_minor": 4
}
